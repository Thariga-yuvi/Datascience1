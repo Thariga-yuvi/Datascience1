{
  "nbformat": 4,
  "nbformat_minor": 0,
  "metadata": {
    "colab": {
      "provenance": [],
      "authorship_tag": "ABX9TyPNqYW2JWhlImQzLzMnP5m0",
      "include_colab_link": true
    },
    "kernelspec": {
      "name": "python3",
      "display_name": "Python 3"
    },
    "language_info": {
      "name": "python"
    }
  },
  "cells": [
    {
      "cell_type": "markdown",
      "metadata": {
        "id": "view-in-github",
        "colab_type": "text"
      },
      "source": [
        "<a href=\"https://colab.research.google.com/github/Thariga-yuvi/Datascience1/blob/main/Untitled5.ipynb\" target=\"_parent\"><img src=\"https://colab.research.google.com/assets/colab-badge.svg\" alt=\"Open In Colab\"/></a>"
      ]
    },
    {
      "cell_type": "code",
      "execution_count": 3,
      "metadata": {
        "colab": {
          "base_uri": "https://localhost:8080/"
        },
        "id": "G_bsdighdlcO",
        "outputId": "47e8708d-27c6-4473-d348-14a0a18fe079"
      },
      "outputs": [
        {
          "output_type": "stream",
          "name": "stdout",
          "text": [
            "7200\n",
            "scholarship is available\n"
          ]
        }
      ],
      "source": [
        "income= int(input())\n",
        "if (income>7000):\n",
        "  print(\"scholarship is available\")\n",
        "else:\n",
        "  print(\"not eligible for scholarship\")"
      ]
    },
    {
      "cell_type": "code",
      "source": [
        "#to check the given input is divisible by 3\n",
        "a= int(input())\n",
        "if (a%3==0):\n",
        "  print(\"the number is divisible by 3\")\n",
        "else:\n",
        "  print(\"the number is not divisible by 3\")"
      ],
      "metadata": {
        "colab": {
          "base_uri": "https://localhost:8080/"
        },
        "id": "0V-ShVWym_ie",
        "outputId": "00cafc45-75a7-4d2c-a1e9-3daa591ddaf0"
      },
      "execution_count": 5,
      "outputs": [
        {
          "output_type": "stream",
          "name": "stdout",
          "text": [
            "15\n",
            "the number is divisible by 3\n"
          ]
        }
      ]
    },
    {
      "cell_type": "code",
      "source": [
        "#to check the given input is divisible by 3 and 5\n",
        "a= int(input())\n",
        "if (a%3==0 and a%5==0):\n",
        "  print(\"the number is divisible by 3 and 5\")\n",
        "else:\n",
        "  print(\"the number is not divisible by 3 and 5\")"
      ],
      "metadata": {
        "colab": {
          "base_uri": "https://localhost:8080/"
        },
        "id": "Ql826jbEzQWc",
        "outputId": "fcb21ffb-9a54-470b-c10a-a2623ccc34be"
      },
      "execution_count": 8,
      "outputs": [
        {
          "output_type": "stream",
          "name": "stdout",
          "text": [
            "30\n",
            "the number is divisible by 3 and 5\n"
          ]
        }
      ]
    },
    {
      "cell_type": "code",
      "source": [
        "#even or odd\n",
        "a=int(input(\"enter a number:\"))\n",
        "if(a%2==0):\n",
        " print(\"number is even\")\n",
        "else:\n",
        "  print(\"number is odd\")"
      ],
      "metadata": {
        "colab": {
          "base_uri": "https://localhost:8080/"
        },
        "id": "WuzGBhiZ2ngs",
        "outputId": "f7ab4aed-fe9a-4233-cce2-f774463e2b37"
      },
      "execution_count": 11,
      "outputs": [
        {
          "output_type": "stream",
          "name": "stdout",
          "text": [
            "enter a number:4\n",
            "number is even\n"
          ]
        }
      ]
    },
    {
      "cell_type": "code",
      "source": [
        "mark=int(input(\"score:\"))\n",
        "if (mark<35):\n",
        "  print(\"poor student\")\n",
        "if (mark>35 and mark<70):\n",
        "  print(\"Average student\")\n",
        "if(mark>70):\n",
        "  print(\"good sudent\")"
      ],
      "metadata": {
        "colab": {
          "base_uri": "https://localhost:8080/"
        },
        "id": "YzvoTXuo-CFB",
        "outputId": "64ae548b-ca17-419e-cd1d-0e3eef36f106"
      },
      "execution_count": 12,
      "outputs": [
        {
          "output_type": "stream",
          "name": "stdout",
          "text": [
            "score:68\n",
            "Average student\n"
          ]
        }
      ]
    },
    {
      "cell_type": "code",
      "source": [
        "#using elif\n",
        "mark=int(input(\"score:\"))\n",
        "if (mark<35):\n",
        "  print(\"poor student\")\n",
        "elif (mark>35 and mark<70):\n",
        "  print(\"Average student\")\n",
        "else:\n",
        "  print(\"good sudent\")"
      ],
      "metadata": {
        "colab": {
          "base_uri": "https://localhost:8080/"
        },
        "id": "_M_lBG6UEUjC",
        "outputId": "4f848210-c233-4543-d816-a2e3689f3cde"
      },
      "execution_count": 13,
      "outputs": [
        {
          "output_type": "stream",
          "name": "stdout",
          "text": [
            "score:70\n",
            "good sudent\n"
          ]
        }
      ]
    },
    {
      "cell_type": "code",
      "source": [
        "mark=int(input(\"score:\"))\n",
        "if (mark<35):\n",
        "  print(\"poor student\")\n",
        "elif (mark>35 and mark<70):\n",
        "  print(\"Average student\")\n",
        "elif(mark>70 and mark<100):\n",
        "  print(\"good sudent\")\n",
        "else:\n",
        "  print(\"invalid score\")"
      ],
      "metadata": {
        "colab": {
          "base_uri": "https://localhost:8080/"
        },
        "id": "jB1hwQUNjETD",
        "outputId": "06cd6fbc-e6f7-452c-8b58-7be7f03d23d8"
      },
      "execution_count": 9,
      "outputs": [
        {
          "output_type": "stream",
          "name": "stdout",
          "text": [
            "score:150\n",
            "invalid score\n"
          ]
        }
      ]
    },
    {
      "cell_type": "code",
      "source": [
        "#add,SUB,mul,div\n",
        "a=int(input(\"A:\"))\n",
        "b=int(input(\"B:\"))\n",
        "operation=input(\"add/sub/mul/div:\")\n",
        "if (operation==\"add\"):\n",
        "  print(a+b)\n",
        "elif(operation==\"sub\"):\n",
        "  print(a-b)\n",
        "elif(operation==\"mul\"):\n",
        "  print(a*b)\n",
        "elif(operation==\"div\"):\n",
        "  print(a/b)\n",
        "else:\n",
        "  print(\"invalid operation\")"
      ],
      "metadata": {
        "colab": {
          "base_uri": "https://localhost:8080/"
        },
        "id": "z2dojYsNlGBN",
        "outputId": "133cc092-ab1f-4ca2-fe33-f2d964f8c2f0"
      },
      "execution_count": 12,
      "outputs": [
        {
          "output_type": "stream",
          "name": "stdout",
          "text": [
            "A:6\n",
            "B:3\n",
            "add/sub/mul/div:mul\n",
            "18\n"
          ]
        }
      ]
    },
    {
      "cell_type": "code",
      "source": [
        "#user input inside if condition\n",
        "score_percentage=int(input(\"score:\"))\n",
        "if(score_percentage>70):\n",
        "  name=input(\"enter your name:\")\n",
        "  location=input(\"enter your location:\")\n",
        "  print(\"You are eligible\")\n",
        "else:\n",
        "  print(\"You are not eligible\")"
      ],
      "metadata": {
        "colab": {
          "base_uri": "https://localhost:8080/"
        },
        "id": "vceaICBtocu3",
        "outputId": "eb37c6ef-c9cc-46fc-eefc-721dcc562e80"
      },
      "execution_count": 21,
      "outputs": [
        {
          "output_type": "stream",
          "name": "stdout",
          "text": [
            "score:90\n",
            "enter your name:yuvaraj\n",
            "enter your location:chennai\n",
            "You are eligible\n"
          ]
        }
      ]
    },
    {
      "cell_type": "code",
      "source": [
        "#loan amount based on salary and age (nested if)\n",
        "salary=int(input(\"enter your salary:\"))\n",
        "age=int(input(\"enter your age:\"))\n",
        "if (salary>=20000 or age<=25):\n",
        "  loan=int(input(\"enter your loan amount:\"))\n",
        "  if (loan>=50000):\n",
        "   print(\"maximum loan amount is 50000\")\n",
        "  else:\n",
        "     print(\"you are eligible for loan\")\n",
        "else:\n",
        "  print(\"you are not eligible for loan\")\n",
        "\n",
        ""
      ],
      "metadata": {
        "colab": {
          "base_uri": "https://localhost:8080/"
        },
        "id": "ovle65OA0Fzx",
        "outputId": "07966086-6d92-4214-8957-0f461457e153"
      },
      "execution_count": 27,
      "outputs": [
        {
          "output_type": "stream",
          "name": "stdout",
          "text": [
            "enter your salary:20000\n",
            "enter your age:26\n",
            "enter your loan amount:75000\n",
            "maximum loan amount is 50000\n"
          ]
        }
      ]
    },
    {
      "cell_type": "code",
      "source": [
        "#average\n",
        "a=int(input())\n",
        "b=int(input())\n",
        "c=int(input())\n",
        "d=int(input())\n",
        "e=int(input())\n",
        "f=a+b+c+d+e\n",
        "average=f/2\n",
        "if (average<=35):\n",
        "  print(\"additional class is required\")\n",
        "else:\n",
        "  print(\"you are good to go\")"
      ],
      "metadata": {
        "colab": {
          "base_uri": "https://localhost:8080/"
        },
        "id": "5J5uvOmN4TNE",
        "outputId": "4c96e327-6c6e-49bb-821e-7722020c2299"
      },
      "execution_count": 30,
      "outputs": [
        {
          "output_type": "stream",
          "name": "stdout",
          "text": [
            "5\n",
            "1\n",
            "5\n",
            "0\n",
            "4\n",
            "additional class is required\n"
          ]
        }
      ]
    },
    {
      "cell_type": "code",
      "source": [
        "#HACKER RANK\n",
        "n=int(input())\n",
        "if (n%2==0):\n",
        "    if(n>=2 and n<=5):\n",
        "      print(\"Not Weird\")\n",
        "    elif(n>=6 and n<=20):\n",
        "       print(\"weird\")\n",
        "    elif(n>20):\n",
        "        print(\"Not weird\")\n",
        "else:\n",
        "    print(\"Weird\")"
      ],
      "metadata": {
        "colab": {
          "base_uri": "https://localhost:8080/"
        },
        "id": "KeiT6gf46EXn",
        "outputId": "372e567d-cd7d-4c55-b75a-5a7caa2c5ab5"
      },
      "execution_count": 31,
      "outputs": [
        {
          "output_type": "stream",
          "name": "stdout",
          "text": [
            "3\n",
            "Weird\n"
          ]
        }
      ]
    },
    {
      "cell_type": "code",
      "source": [
        "#FOR LOOP\n",
        "for i in range(3):\n",
        "  print(i)"
      ],
      "metadata": {
        "colab": {
          "base_uri": "https://localhost:8080/"
        },
        "id": "0XG3ivUpCfzn",
        "outputId": "8bf8edf1-6914-4443-fdce-517ab18e0594"
      },
      "execution_count": 33,
      "outputs": [
        {
          "output_type": "stream",
          "name": "stdout",
          "text": [
            "0\n",
            "1\n",
            "2\n"
          ]
        }
      ]
    },
    {
      "cell_type": "code",
      "source": [
        "for i in range(1,5):\n",
        " print(i)"
      ],
      "metadata": {
        "colab": {
          "base_uri": "https://localhost:8080/"
        },
        "id": "AGQdERkrIQJc",
        "outputId": "3f06a9c8-1027-4f98-ad0c-89cff0de7231"
      },
      "execution_count": 36,
      "outputs": [
        {
          "output_type": "stream",
          "name": "stdout",
          "text": [
            "1\n",
            "2\n",
            "3\n",
            "4\n"
          ]
        }
      ]
    },
    {
      "cell_type": "code",
      "source": [
        "int_value=int(input())\n",
        "print(int_value)"
      ],
      "metadata": {
        "colab": {
          "base_uri": "https://localhost:8080/"
        },
        "id": "ZGKradU3MefW",
        "outputId": "cc842e95-732a-4ee9-8b6d-abb5b8b99d68"
      },
      "execution_count": 37,
      "outputs": [
        {
          "output_type": "stream",
          "name": "stdout",
          "text": [
            "2\n",
            "2\n"
          ]
        }
      ]
    },
    {
      "cell_type": "code",
      "source": [
        "#print 2 table using for loop\n",
        "for i in range(1,11):\n",
        " print(i,\"x2=\", i*2)"
      ],
      "metadata": {
        "colab": {
          "base_uri": "https://localhost:8080/"
        },
        "id": "Y8vknaWSSa5C",
        "outputId": "03ad4077-cec2-4bc8-87ae-3c28fa3bf3a4"
      },
      "execution_count": 40,
      "outputs": [
        {
          "output_type": "stream",
          "name": "stdout",
          "text": [
            "1 x2= 2\n",
            "2 x2= 4\n",
            "3 x2= 6\n",
            "4 x2= 8\n",
            "5 x2= 10\n",
            "6 x2= 12\n",
            "7 x2= 14\n",
            "8 x2= 16\n",
            "9 x2= 18\n",
            "10 x2= 20\n"
          ]
        }
      ]
    },
    {
      "cell_type": "code",
      "source": [],
      "metadata": {
        "id": "XB1-2T4OUAZX"
      },
      "execution_count": null,
      "outputs": []
    },
    {
      "cell_type": "markdown",
      "source": [
        "FOR LOOP"
      ],
      "metadata": {
        "id": "ZQd4TIuqUCma"
      }
    },
    {
      "cell_type": "code",
      "source": [
        "a=int(input())\n",
        "b=int(input())\n",
        "for i in range(a+1,b):\n",
        " print(i)"
      ],
      "metadata": {
        "colab": {
          "base_uri": "https://localhost:8080/"
        },
        "id": "LrG7l4OPURnw",
        "outputId": "d2e3343b-8960-4344-e234-4a6ca0e378db"
      },
      "execution_count": 42,
      "outputs": [
        {
          "output_type": "stream",
          "name": "stdout",
          "text": [
            "8\n",
            "15\n",
            "9\n",
            "10\n",
            "11\n",
            "12\n",
            "13\n",
            "14\n"
          ]
        }
      ]
    },
    {
      "cell_type": "code",
      "source": [
        "#print even number 1 to 10\n",
        "for i in range(1,11):\n",
        "  if(i%2==0):\n",
        "    print(i)"
      ],
      "metadata": {
        "colab": {
          "base_uri": "https://localhost:8080/"
        },
        "id": "SkVo36ikWJgK",
        "outputId": "5d9975f3-9b12-4b0f-859e-71f910ba9976"
      },
      "execution_count": 43,
      "outputs": [
        {
          "output_type": "stream",
          "name": "stdout",
          "text": [
            "2\n",
            "4\n",
            "6\n",
            "8\n",
            "10\n"
          ]
        }
      ]
    },
    {
      "cell_type": "code",
      "source": [
        "#count the number of even numbers between 1 to 10\n",
        "count=0\n",
        "for i in range(1,11):\n",
        "  if(i%2==0):\n",
        "    count=count+1\n",
        "print(count)\n",
        ""
      ],
      "metadata": {
        "colab": {
          "base_uri": "https://localhost:8080/"
        },
        "id": "1Vi0PnJAYBvW",
        "outputId": "eed9e0c4-00d2-4d92-f27f-28220c410a65"
      },
      "execution_count": 57,
      "outputs": [
        {
          "output_type": "stream",
          "name": "stdout",
          "text": [
            "5\n"
          ]
        }
      ]
    },
    {
      "cell_type": "code",
      "source": [
        "#count the number of odd and even numbers between 1 to 10\n",
        "e_count=0\n",
        "o_count=0\n",
        "for i in range(1,11):\n",
        "  if(i%2==0):\n",
        "    e_count=e_count+1\n",
        "  else:\n",
        "     o_count=o_count+1\n",
        "print(e_count)\n",
        "print(o_count)\n",
        ""
      ],
      "metadata": {
        "colab": {
          "base_uri": "https://localhost:8080/"
        },
        "id": "GWX2fzsPbrNU",
        "outputId": "70520d0a-7fda-4688-b1d2-11229d04969b"
      },
      "execution_count": 66,
      "outputs": [
        {
          "output_type": "stream",
          "name": "stdout",
          "text": [
            "5\n",
            "5\n"
          ]
        }
      ]
    },
    {
      "cell_type": "code",
      "source": [
        "#count the no which are divisible by 3 and 5. range 1-100\n",
        "count=0\n",
        "for i in range(1,101):\n",
        " if(i%3==0 and i%5==0):\n",
        "  count=count+1\n",
        "print(count)"
      ],
      "metadata": {
        "colab": {
          "base_uri": "https://localhost:8080/"
        },
        "id": "S1CWraO7dQUK",
        "outputId": "fe63449a-732b-4fa6-ea61-021936692fc6"
      },
      "execution_count": 71,
      "outputs": [
        {
          "output_type": "stream",
          "name": "stdout",
          "text": [
            "6\n"
          ]
        }
      ]
    },
    {
      "cell_type": "code",
      "source": [
        "#sum of 5 natural numbers\n",
        "sum=0\n",
        "for i in range(1,6):\n",
        "  sum=sum+i\n",
        "print(sum)"
      ],
      "metadata": {
        "colab": {
          "base_uri": "https://localhost:8080/"
        },
        "id": "-SOstp-Jeeah",
        "outputId": "abea4975-b6f6-4edd-99ba-85fcfcbc6da3"
      },
      "execution_count": 76,
      "outputs": [
        {
          "output_type": "stream",
          "name": "stdout",
          "text": [
            "15\n"
          ]
        }
      ]
    },
    {
      "cell_type": "code",
      "source": [
        "#add 10 numbers and find average,, #list[]\n",
        "a=[1,2,3,4,5,6,7,8,9,10]\n",
        "for i in a:\n",
        "  print(i)"
      ],
      "metadata": {
        "colab": {
          "base_uri": "https://localhost:8080/"
        },
        "id": "6xkpBDizf-kH",
        "outputId": "bb9b4dcc-e3c6-4b03-e8d1-6a57688c3758"
      },
      "execution_count": 79,
      "outputs": [
        {
          "output_type": "stream",
          "name": "stdout",
          "text": [
            "1\n",
            "2\n",
            "3\n",
            "4\n",
            "5\n",
            "6\n",
            "7\n",
            "8\n",
            "9\n",
            "10\n"
          ]
        }
      ]
    },
    {
      "cell_type": "code",
      "source": [
        "a=[]\n",
        "for i in range(10):\n",
        "  num=int(input())\n",
        "  a.append(num)\n",
        "print(a)"
      ],
      "metadata": {
        "colab": {
          "base_uri": "https://localhost:8080/"
        },
        "id": "EoInQpjvjmpB",
        "outputId": "cdc76b65-0ee4-4273-f22e-9ce94384418b"
      },
      "execution_count": 80,
      "outputs": [
        {
          "output_type": "stream",
          "name": "stdout",
          "text": [
            "1\n",
            "2\n",
            "3\n",
            "4\n",
            "5\n",
            "6\n",
            "7\n",
            "8\n",
            "9\n",
            "10\n",
            "[1, 2, 3, 4, 5, 6, 7, 8, 9, 10]\n"
          ]
        }
      ]
    },
    {
      "cell_type": "code",
      "source": [
        "a=[]\n",
        "print(\"enter 10 numbers\")\n",
        "for i in range(10):\n",
        "  num=int(input(\"enter number:\"+str(i+1)))\n",
        "  a.append(num)\n",
        "print(a)"
      ],
      "metadata": {
        "colab": {
          "base_uri": "https://localhost:8080/"
        },
        "id": "5L1jM-i0j_ML",
        "outputId": "3f47ec4c-3745-4845-990b-6d4972bfa4d4"
      },
      "execution_count": 91,
      "outputs": [
        {
          "output_type": "stream",
          "name": "stdout",
          "text": [
            "enter 10 numbers\n",
            "enter number:11\n",
            "enter number:22\n",
            "enter number:33\n",
            "enter number:44\n",
            "enter number:55\n",
            "enter number:66\n",
            "enter number:77\n",
            "enter number:88\n",
            "enter number:99\n",
            "enter number:1010\n",
            "[1, 2, 3, 4, 5, 6, 7, 8, 9, 10]\n"
          ]
        }
      ]
    },
    {
      "cell_type": "code",
      "source": [
        "a=[]\n",
        "print(\"enter numbers\")\n",
        "for i in range(5):\n",
        "  num=int(input(\"enter number:\"+str(i+1)))\n",
        "  a.append(num)\n",
        "print(a)\n",
        "sum=0\n",
        "for i in a:\n",
        "  sum=sum+i\n",
        "print(sum)"
      ],
      "metadata": {
        "colab": {
          "base_uri": "https://localhost:8080/"
        },
        "id": "XdF9nAWjlkmd",
        "outputId": "9aedd2da-9ae9-42d7-9311-285fb8581d0d"
      },
      "execution_count": 95,
      "outputs": [
        {
          "output_type": "stream",
          "name": "stdout",
          "text": [
            "enter numbers\n",
            "enter number:110\n",
            "enter number:220\n",
            "enter number:330\n",
            "enter number:440\n",
            "enter number:550\n",
            "[10, 20, 30, 40, 50]\n",
            "150\n"
          ]
        }
      ]
    }
  ]
}